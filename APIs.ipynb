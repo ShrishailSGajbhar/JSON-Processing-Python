{
 "cells": [
  {
   "cell_type": "markdown",
   "id": "12e584ff-4b6d-4bbd-ae4f-013517fcdb01",
   "metadata": {},
   "source": [
    "## Working with APIs in Python\n",
    "\n",
    "https://openweathermap.org/current"
   ]
  },
  {
   "cell_type": "code",
   "execution_count": 11,
   "id": "cbdca67b-65d8-488f-99e4-40ca3b0f5cc9",
   "metadata": {
    "tags": []
   },
   "outputs": [],
   "source": [
    "import requests\n",
    "import os\n",
    "import json"
   ]
  },
  {
   "cell_type": "code",
   "execution_count": 4,
   "id": "2794a9a4-e6df-4900-ae4e-19eb61169ca2",
   "metadata": {
    "tags": []
   },
   "outputs": [],
   "source": [
    "# lattitude and longitude for my current place Solapur\n",
    "# 17.6599° N, 75.9064° E\n",
    "lat = 17.6599\n",
    "lon = 75.9064\n",
    "API_key = \"ac0d7c0e1a3aaff144b968311bb7cc1e\""
   ]
  },
  {
   "cell_type": "code",
   "execution_count": 6,
   "id": "770d53b4-5583-4e68-9746-feee18520a99",
   "metadata": {
    "tags": []
   },
   "outputs": [],
   "source": [
    "url = f\"https://api.openweathermap.org/data/2.5/weather?lat={lat}&lon={lon}&appid={API_key}\""
   ]
  },
  {
   "cell_type": "code",
   "execution_count": 8,
   "id": "ccffcf75-b694-4076-9af9-f1ca8fa230d4",
   "metadata": {
    "tags": []
   },
   "outputs": [
    {
     "data": {
      "text/plain": [
       "'{\"coord\":{\"lon\":75.9064,\"lat\":17.6599},\"weather\":[{\"id\":802,\"main\":\"Clouds\",\"description\":\"scattered clouds\",\"icon\":\"03n\"}],\"base\":\"stations\",\"main\":{\"temp\":303.72,\"feels_like\":302.72,\"temp_min\":303.72,\"temp_max\":303.72,\"pressure\":1007,\"humidity\":33,\"sea_level\":1007,\"grnd_level\":954},\"visibility\":10000,\"wind\":{\"speed\":2.58,\"deg\":51,\"gust\":3.64},\"clouds\":{\"all\":41},\"dt\":1682964595,\"sys\":{\"country\":\"IN\",\"sunrise\":1682901021,\"sunset\":1682946992},\"timezone\":19800,\"id\":1256436,\"name\":\"Solapur\",\"cod\":200}'"
      ]
     },
     "execution_count": 8,
     "metadata": {},
     "output_type": "execute_result"
    }
   ],
   "source": [
    "response = requests.get(url)\n",
    "response.text"
   ]
  },
  {
   "cell_type": "code",
   "execution_count": 9,
   "id": "6cc56002-c770-4f79-bf7f-4ce00976804e",
   "metadata": {
    "tags": []
   },
   "outputs": [
    {
     "data": {
      "text/plain": [
       "str"
      ]
     },
     "execution_count": 9,
     "metadata": {},
     "output_type": "execute_result"
    }
   ],
   "source": [
    "type(response.text)"
   ]
  },
  {
   "cell_type": "markdown",
   "id": "620c00cf-0303-40ea-8388-0db0ea6ddfab",
   "metadata": {},
   "source": [
    "### Convert JSON response to Python dictionary"
   ]
  },
  {
   "cell_type": "code",
   "execution_count": 13,
   "id": "328f9b74-1a12-44aa-9b3f-6d506f73a809",
   "metadata": {
    "tags": []
   },
   "outputs": [
    {
     "data": {
      "text/plain": [
       "{'coord': {'lon': 75.9064, 'lat': 17.6599},\n",
       " 'weather': [{'id': 802,\n",
       "   'main': 'Clouds',\n",
       "   'description': 'scattered clouds',\n",
       "   'icon': '03n'}],\n",
       " 'base': 'stations',\n",
       " 'main': {'temp': 303.72,\n",
       "  'feels_like': 302.72,\n",
       "  'temp_min': 303.72,\n",
       "  'temp_max': 303.72,\n",
       "  'pressure': 1007,\n",
       "  'humidity': 33,\n",
       "  'sea_level': 1007,\n",
       "  'grnd_level': 954},\n",
       " 'visibility': 10000,\n",
       " 'wind': {'speed': 2.58, 'deg': 51, 'gust': 3.64},\n",
       " 'clouds': {'all': 41},\n",
       " 'dt': 1682964595,\n",
       " 'sys': {'country': 'IN', 'sunrise': 1682901021, 'sunset': 1682946992},\n",
       " 'timezone': 19800,\n",
       " 'id': 1256436,\n",
       " 'name': 'Solapur',\n",
       " 'cod': 200}"
      ]
     },
     "execution_count": 13,
     "metadata": {},
     "output_type": "execute_result"
    }
   ],
   "source": [
    "data = json.loads(response.text)\n",
    "data"
   ]
  },
  {
   "cell_type": "code",
   "execution_count": 14,
   "id": "9719851f-8f2d-4045-a662-b2e99337619b",
   "metadata": {
    "tags": []
   },
   "outputs": [],
   "source": [
    "data = response.json()"
   ]
  },
  {
   "cell_type": "code",
   "execution_count": 15,
   "id": "90f26953-2abd-4071-8fba-91431b58e34c",
   "metadata": {
    "tags": []
   },
   "outputs": [
    {
     "data": {
      "text/plain": [
       "{'coord': {'lon': 75.9064, 'lat': 17.6599},\n",
       " 'weather': [{'id': 802,\n",
       "   'main': 'Clouds',\n",
       "   'description': 'scattered clouds',\n",
       "   'icon': '03n'}],\n",
       " 'base': 'stations',\n",
       " 'main': {'temp': 303.72,\n",
       "  'feels_like': 302.72,\n",
       "  'temp_min': 303.72,\n",
       "  'temp_max': 303.72,\n",
       "  'pressure': 1007,\n",
       "  'humidity': 33,\n",
       "  'sea_level': 1007,\n",
       "  'grnd_level': 954},\n",
       " 'visibility': 10000,\n",
       " 'wind': {'speed': 2.58, 'deg': 51, 'gust': 3.64},\n",
       " 'clouds': {'all': 41},\n",
       " 'dt': 1682964595,\n",
       " 'sys': {'country': 'IN', 'sunrise': 1682901021, 'sunset': 1682946992},\n",
       " 'timezone': 19800,\n",
       " 'id': 1256436,\n",
       " 'name': 'Solapur',\n",
       " 'cod': 200}"
      ]
     },
     "execution_count": 15,
     "metadata": {},
     "output_type": "execute_result"
    }
   ],
   "source": [
    "data"
   ]
  },
  {
   "cell_type": "markdown",
   "id": "0ccb1786-bf84-46db-b620-8edf1d6db94b",
   "metadata": {},
   "source": [
    "## Response components"
   ]
  },
  {
   "cell_type": "code",
   "execution_count": 16,
   "id": "739fca67-0f20-4e2a-aaf5-657939d04248",
   "metadata": {
    "tags": []
   },
   "outputs": [
    {
     "data": {
      "text/plain": [
       "{'Server': 'openresty', 'Date': 'Mon, 01 May 2023 18:09:55 GMT', 'Content-Type': 'application/json; charset=utf-8', 'Content-Length': '504', 'Connection': 'keep-alive', 'X-Cache-Key': '/data/2.5/weather?lat=17.66&lon=75.91', 'Access-Control-Allow-Origin': '*', 'Access-Control-Allow-Credentials': 'true', 'Access-Control-Allow-Methods': 'GET, POST'}"
      ]
     },
     "execution_count": 16,
     "metadata": {},
     "output_type": "execute_result"
    }
   ],
   "source": [
    "response.headers"
   ]
  },
  {
   "cell_type": "code",
   "execution_count": 17,
   "id": "85da9ff9-b4c9-4f57-80e2-14f7ea542c4c",
   "metadata": {
    "tags": []
   },
   "outputs": [
    {
     "data": {
      "text/plain": [
       "200"
      ]
     },
     "execution_count": 17,
     "metadata": {},
     "output_type": "execute_result"
    }
   ],
   "source": [
    "response.status_code"
   ]
  },
  {
   "cell_type": "code",
   "execution_count": 18,
   "id": "4a718e35-42f2-4ef6-8899-39b5a80872f2",
   "metadata": {
    "tags": []
   },
   "outputs": [
    {
     "data": {
      "text/plain": [
       "'OK'"
      ]
     },
     "execution_count": 18,
     "metadata": {},
     "output_type": "execute_result"
    }
   ],
   "source": [
    "response.reason"
   ]
  },
  {
   "cell_type": "code",
   "execution_count": 19,
   "id": "b840c30f-2a76-406f-a216-ab62f44d9b81",
   "metadata": {
    "tags": []
   },
   "outputs": [
    {
     "data": {
      "text/plain": [
       "datetime.timedelta(microseconds=430389)"
      ]
     },
     "execution_count": 19,
     "metadata": {},
     "output_type": "execute_result"
    }
   ],
   "source": [
    "response.elapsed"
   ]
  },
  {
   "cell_type": "code",
   "execution_count": null,
   "id": "ff2c8fcf-ccbb-4ce6-9993-2a12d251ce03",
   "metadata": {},
   "outputs": [],
   "source": []
  }
 ],
 "metadata": {
  "kernelspec": {
   "display_name": "Python 3 (ipykernel)",
   "language": "python",
   "name": "python3"
  },
  "language_info": {
   "codemirror_mode": {
    "name": "ipython",
    "version": 3
   },
   "file_extension": ".py",
   "mimetype": "text/x-python",
   "name": "python",
   "nbconvert_exporter": "python",
   "pygments_lexer": "ipython3",
   "version": "3.10.6"
  }
 },
 "nbformat": 4,
 "nbformat_minor": 5
}
