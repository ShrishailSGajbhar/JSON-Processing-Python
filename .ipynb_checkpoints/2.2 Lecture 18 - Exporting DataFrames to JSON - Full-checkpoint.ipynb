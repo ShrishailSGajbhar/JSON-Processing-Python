{
 "cells": [
  {
   "cell_type": "markdown",
   "id": "04b3947c-d61d-495f-8358-c33963c05413",
   "metadata": {},
   "source": [
    "# Exporting Dataframes to JSON"
   ]
  },
  {
   "cell_type": "code",
   "execution_count": 1,
   "id": "005bbfb9-53a3-4a59-8ea7-6b0888dacfc1",
   "metadata": {
    "tags": []
   },
   "outputs": [],
   "source": [
    "import pandas as pd\n",
    "import datetime"
   ]
  },
  {
   "cell_type": "markdown",
   "id": "97f3ac49-07d5-4b3a-b1f1-a42174ec11ad",
   "metadata": {},
   "source": [
    "# The DataFrame"
   ]
  },
  {
   "cell_type": "code",
   "execution_count": 3,
   "id": "24153fba-7552-4c00-9e27-4cb55bf54a25",
   "metadata": {
    "tags": []
   },
   "outputs": [
    {
     "data": {
      "text/html": [
       "<div>\n",
       "<style scoped>\n",
       "    .dataframe tbody tr th:only-of-type {\n",
       "        vertical-align: middle;\n",
       "    }\n",
       "\n",
       "    .dataframe tbody tr th {\n",
       "        vertical-align: top;\n",
       "    }\n",
       "\n",
       "    .dataframe thead th {\n",
       "        text-align: right;\n",
       "    }\n",
       "</style>\n",
       "<table border=\"1\" class=\"dataframe\">\n",
       "  <thead>\n",
       "    <tr style=\"text-align: right;\">\n",
       "      <th></th>\n",
       "      <th>TITLE</th>\n",
       "      <th>ARTIST</th>\n",
       "      <th>COUNTRY</th>\n",
       "      <th>COMPANY</th>\n",
       "      <th>PRICE</th>\n",
       "      <th>YEAR</th>\n",
       "    </tr>\n",
       "  </thead>\n",
       "  <tbody>\n",
       "    <tr>\n",
       "      <th>0</th>\n",
       "      <td>Empire Burlesque</td>\n",
       "      <td>Bob Dylan</td>\n",
       "      <td>USA</td>\n",
       "      <td>Columbia</td>\n",
       "      <td>10.9</td>\n",
       "      <td>1985</td>\n",
       "    </tr>\n",
       "    <tr>\n",
       "      <th>1</th>\n",
       "      <td>Hide your heart</td>\n",
       "      <td>Bonnie Tyler</td>\n",
       "      <td>UK</td>\n",
       "      <td>CBS Records</td>\n",
       "      <td>9.9</td>\n",
       "      <td>1988</td>\n",
       "    </tr>\n",
       "    <tr>\n",
       "      <th>2</th>\n",
       "      <td>Greatest Hits</td>\n",
       "      <td>Dolly Parton</td>\n",
       "      <td>USA</td>\n",
       "      <td>RCA</td>\n",
       "      <td>9.9</td>\n",
       "      <td>1982</td>\n",
       "    </tr>\n",
       "    <tr>\n",
       "      <th>3</th>\n",
       "      <td>Still got the blues</td>\n",
       "      <td>Gary Moore</td>\n",
       "      <td>UK</td>\n",
       "      <td>Virgin records</td>\n",
       "      <td>10.2</td>\n",
       "      <td>1990</td>\n",
       "    </tr>\n",
       "    <tr>\n",
       "      <th>4</th>\n",
       "      <td>Eros</td>\n",
       "      <td>Eros Ramazzotti</td>\n",
       "      <td>EU</td>\n",
       "      <td>BMG</td>\n",
       "      <td>9.9</td>\n",
       "      <td>1997</td>\n",
       "    </tr>\n",
       "  </tbody>\n",
       "</table>\n",
       "</div>"
      ],
      "text/plain": [
       "                 TITLE           ARTIST COUNTRY         COMPANY  PRICE  YEAR\n",
       "0     Empire Burlesque        Bob Dylan     USA        Columbia   10.9  1985\n",
       "1      Hide your heart     Bonnie Tyler      UK     CBS Records    9.9  1988\n",
       "2        Greatest Hits     Dolly Parton     USA             RCA    9.9  1982\n",
       "3  Still got the blues       Gary Moore      UK  Virgin records   10.2  1990\n",
       "4                 Eros  Eros Ramazzotti      EU             BMG    9.9  1997"
      ]
     },
     "execution_count": 3,
     "metadata": {},
     "output_type": "execute_result"
    }
   ],
   "source": [
    "data = pd.read_csv('cds.csv')\n",
    "data.head()"
   ]
  },
  {
   "cell_type": "markdown",
   "id": "6a2bbf03-2d9c-49a5-bd0e-00879f9ef433",
   "metadata": {},
   "source": [
    "# Defaults"
   ]
  },
  {
   "cell_type": "code",
   "execution_count": 14,
   "id": "a6021426-01e0-4242-98e6-eb4d9db75c54",
   "metadata": {
    "tags": []
   },
   "outputs": [],
   "source": [
    "data.to_json('json/CDDefault.json', indent=2)"
   ]
  },
  {
   "cell_type": "markdown",
   "id": "fe32030d-0c9a-44e0-bd44-202ee1e7fbe6",
   "metadata": {},
   "source": [
    "# Orient"
   ]
  },
  {
   "cell_type": "code",
   "execution_count": 15,
   "id": "1a39bb3d-2fe4-46d7-b018-622324d8b0f1",
   "metadata": {
    "tags": []
   },
   "outputs": [],
   "source": [
    "data.to_json('json/CDOrientSplit.json', indent=2,orient='split')"
   ]
  },
  {
   "cell_type": "code",
   "execution_count": 16,
   "id": "eeb8b19c-ee29-4937-8abc-2a6c09fe489e",
   "metadata": {
    "tags": []
   },
   "outputs": [],
   "source": [
    "data.to_json('json/CDOrientRecords.json', indent=2,orient='records')"
   ]
  },
  {
   "cell_type": "code",
   "execution_count": 17,
   "id": "908c4161-f231-4a35-b484-d6e0d9ac235e",
   "metadata": {
    "tags": []
   },
   "outputs": [],
   "source": [
    "data.to_json('json/CDOrientIndex.json', indent=2,orient='index')"
   ]
  },
  {
   "cell_type": "code",
   "execution_count": 18,
   "id": "6e4a1ec7-eeee-414a-9a75-cf152437bcde",
   "metadata": {
    "tags": []
   },
   "outputs": [],
   "source": [
    "data.to_json('json/CDOrientColumns.json', indent=2,orient='columns')"
   ]
  },
  {
   "cell_type": "code",
   "execution_count": 19,
   "id": "5ddc0e21-7009-4681-9379-f280208b230c",
   "metadata": {
    "tags": []
   },
   "outputs": [],
   "source": [
    "data.to_json('json/CDOrientValues.json', indent=2,orient='values')"
   ]
  },
  {
   "cell_type": "code",
   "execution_count": 20,
   "id": "18f9c1e6-e93a-4255-8494-dea43736842a",
   "metadata": {
    "tags": []
   },
   "outputs": [],
   "source": [
    "data.to_json('json/CDOrientTable.json', indent=2,orient='table')"
   ]
  },
  {
   "cell_type": "markdown",
   "id": "9150f9f0-7df5-45f0-a0d4-2b9b609dd34f",
   "metadata": {},
   "source": [
    "# Date Format & Date Unit"
   ]
  },
  {
   "cell_type": "code",
   "execution_count": 21,
   "id": "f3eeaeae-f089-4b2e-900e-04518fbf72ba",
   "metadata": {
    "tags": []
   },
   "outputs": [
    {
     "data": {
      "text/html": [
       "<div>\n",
       "<style scoped>\n",
       "    .dataframe tbody tr th:only-of-type {\n",
       "        vertical-align: middle;\n",
       "    }\n",
       "\n",
       "    .dataframe tbody tr th {\n",
       "        vertical-align: top;\n",
       "    }\n",
       "\n",
       "    .dataframe thead th {\n",
       "        text-align: right;\n",
       "    }\n",
       "</style>\n",
       "<table border=\"1\" class=\"dataframe\">\n",
       "  <thead>\n",
       "    <tr style=\"text-align: right;\">\n",
       "      <th></th>\n",
       "      <th>TITLE</th>\n",
       "      <th>ARTIST</th>\n",
       "      <th>COUNTRY</th>\n",
       "      <th>COMPANY</th>\n",
       "      <th>PRICE</th>\n",
       "      <th>YEAR</th>\n",
       "      <th>Today</th>\n",
       "    </tr>\n",
       "  </thead>\n",
       "  <tbody>\n",
       "    <tr>\n",
       "      <th>0</th>\n",
       "      <td>Empire Burlesque</td>\n",
       "      <td>Bob Dylan</td>\n",
       "      <td>USA</td>\n",
       "      <td>Columbia</td>\n",
       "      <td>10.9</td>\n",
       "      <td>1985</td>\n",
       "      <td>2023-05-01 23:11:05.917053</td>\n",
       "    </tr>\n",
       "    <tr>\n",
       "      <th>1</th>\n",
       "      <td>Hide your heart</td>\n",
       "      <td>Bonnie Tyler</td>\n",
       "      <td>UK</td>\n",
       "      <td>CBS Records</td>\n",
       "      <td>9.9</td>\n",
       "      <td>1988</td>\n",
       "      <td>2023-05-01 23:11:05.917053</td>\n",
       "    </tr>\n",
       "    <tr>\n",
       "      <th>2</th>\n",
       "      <td>Greatest Hits</td>\n",
       "      <td>Dolly Parton</td>\n",
       "      <td>USA</td>\n",
       "      <td>RCA</td>\n",
       "      <td>9.9</td>\n",
       "      <td>1982</td>\n",
       "      <td>2023-05-01 23:11:05.917053</td>\n",
       "    </tr>\n",
       "    <tr>\n",
       "      <th>3</th>\n",
       "      <td>Still got the blues</td>\n",
       "      <td>Gary Moore</td>\n",
       "      <td>UK</td>\n",
       "      <td>Virgin records</td>\n",
       "      <td>10.2</td>\n",
       "      <td>1990</td>\n",
       "      <td>2023-05-01 23:11:05.917053</td>\n",
       "    </tr>\n",
       "    <tr>\n",
       "      <th>4</th>\n",
       "      <td>Eros</td>\n",
       "      <td>Eros Ramazzotti</td>\n",
       "      <td>EU</td>\n",
       "      <td>BMG</td>\n",
       "      <td>9.9</td>\n",
       "      <td>1997</td>\n",
       "      <td>2023-05-01 23:11:05.917053</td>\n",
       "    </tr>\n",
       "  </tbody>\n",
       "</table>\n",
       "</div>"
      ],
      "text/plain": [
       "                 TITLE           ARTIST COUNTRY         COMPANY  PRICE  YEAR   \n",
       "0     Empire Burlesque        Bob Dylan     USA        Columbia   10.9  1985  \\\n",
       "1      Hide your heart     Bonnie Tyler      UK     CBS Records    9.9  1988   \n",
       "2        Greatest Hits     Dolly Parton     USA             RCA    9.9  1982   \n",
       "3  Still got the blues       Gary Moore      UK  Virgin records   10.2  1990   \n",
       "4                 Eros  Eros Ramazzotti      EU             BMG    9.9  1997   \n",
       "\n",
       "                       Today  \n",
       "0 2023-05-01 23:11:05.917053  \n",
       "1 2023-05-01 23:11:05.917053  \n",
       "2 2023-05-01 23:11:05.917053  \n",
       "3 2023-05-01 23:11:05.917053  \n",
       "4 2023-05-01 23:11:05.917053  "
      ]
     },
     "execution_count": 21,
     "metadata": {},
     "output_type": "execute_result"
    }
   ],
   "source": [
    "data['Today'] = datetime.datetime.now()\n",
    "data.head()"
   ]
  },
  {
   "cell_type": "code",
   "execution_count": 23,
   "id": "5af2f04f-7fdf-43ce-a776-c6d89c0959b8",
   "metadata": {
    "tags": []
   },
   "outputs": [],
   "source": [
    "data.to_json('json/CDDateFormatISO.json', indent=2, orient='records',date_format='iso')"
   ]
  },
  {
   "cell_type": "code",
   "execution_count": 24,
   "id": "626fd008-97d2-41a9-90af-ed9b894ef9cf",
   "metadata": {
    "tags": []
   },
   "outputs": [],
   "source": [
    "data.to_json('json/CDDateFormatISOSeconds.json', indent=2,orient='records',date_format='iso',date_unit='s')"
   ]
  },
  {
   "cell_type": "code",
   "execution_count": 25,
   "id": "3455868f-431e-4503-8d2b-a3c1fbc0ce32",
   "metadata": {
    "tags": []
   },
   "outputs": [],
   "source": [
    "data.to_json('json/CDDateFormatISOUS.json', indent=2,orient='records',date_format='iso',date_unit='us')"
   ]
  },
  {
   "cell_type": "code",
   "execution_count": 26,
   "id": "3bd84541-aa2d-467b-a233-a691478d9ff8",
   "metadata": {
    "tags": []
   },
   "outputs": [],
   "source": [
    "data.to_json('json/CDDateFormatISONanoseconds.json', indent=2,orient='records',date_format='iso',date_unit='ns')"
   ]
  },
  {
   "cell_type": "code",
   "execution_count": 27,
   "id": "d2f4ec28-4db5-4683-9ec6-037b80e17c2a",
   "metadata": {
    "tags": []
   },
   "outputs": [],
   "source": [
    "data.to_json('json/CDDateFormatEPOCH.json', indent=2,orient='records',date_format='epoch')"
   ]
  },
  {
   "cell_type": "code",
   "execution_count": 28,
   "id": "903a6d8c-be1a-4608-a7d4-5d2ee79ca038",
   "metadata": {
    "tags": []
   },
   "outputs": [],
   "source": [
    "data.to_json('json/CDDateFormatEPOCHSecond.json', indent=2,orient='records',date_format='epoch',date_unit='s')"
   ]
  },
  {
   "cell_type": "markdown",
   "id": "edb4a1f8-442f-41bf-8271-8a322734e831",
   "metadata": {},
   "source": [
    "# Double Precision"
   ]
  },
  {
   "cell_type": "code",
   "execution_count": 29,
   "id": "9a94cddc-005e-4ac8-b511-334ddfc43512",
   "metadata": {
    "tags": []
   },
   "outputs": [
    {
     "data": {
      "text/plain": [
       "TITLE              object\n",
       "ARTIST             object\n",
       "COUNTRY            object\n",
       "COMPANY            object\n",
       "PRICE             float64\n",
       "YEAR                int64\n",
       "Today      datetime64[ns]\n",
       "dtype: object"
      ]
     },
     "execution_count": 29,
     "metadata": {},
     "output_type": "execute_result"
    }
   ],
   "source": [
    "data.dtypes"
   ]
  },
  {
   "cell_type": "code",
   "execution_count": 30,
   "id": "e8bf5523-5735-4a18-8830-7f32b61e91ce",
   "metadata": {
    "tags": []
   },
   "outputs": [
    {
     "data": {
      "text/html": [
       "<div>\n",
       "<style scoped>\n",
       "    .dataframe tbody tr th:only-of-type {\n",
       "        vertical-align: middle;\n",
       "    }\n",
       "\n",
       "    .dataframe tbody tr th {\n",
       "        vertical-align: top;\n",
       "    }\n",
       "\n",
       "    .dataframe thead th {\n",
       "        text-align: right;\n",
       "    }\n",
       "</style>\n",
       "<table border=\"1\" class=\"dataframe\">\n",
       "  <thead>\n",
       "    <tr style=\"text-align: right;\">\n",
       "      <th></th>\n",
       "      <th>TITLE</th>\n",
       "      <th>ARTIST</th>\n",
       "      <th>COUNTRY</th>\n",
       "      <th>COMPANY</th>\n",
       "      <th>PRICE</th>\n",
       "      <th>YEAR</th>\n",
       "      <th>Today</th>\n",
       "    </tr>\n",
       "  </thead>\n",
       "  <tbody>\n",
       "    <tr>\n",
       "      <th>0</th>\n",
       "      <td>Empire Burlesque</td>\n",
       "      <td>Bob Dylan</td>\n",
       "      <td>USA</td>\n",
       "      <td>Columbia</td>\n",
       "      <td>5.45</td>\n",
       "      <td>1985</td>\n",
       "      <td>2023-05-01 23:11:05.917053</td>\n",
       "    </tr>\n",
       "    <tr>\n",
       "      <th>1</th>\n",
       "      <td>Hide your heart</td>\n",
       "      <td>Bonnie Tyler</td>\n",
       "      <td>UK</td>\n",
       "      <td>CBS Records</td>\n",
       "      <td>4.95</td>\n",
       "      <td>1988</td>\n",
       "      <td>2023-05-01 23:11:05.917053</td>\n",
       "    </tr>\n",
       "    <tr>\n",
       "      <th>2</th>\n",
       "      <td>Greatest Hits</td>\n",
       "      <td>Dolly Parton</td>\n",
       "      <td>USA</td>\n",
       "      <td>RCA</td>\n",
       "      <td>4.95</td>\n",
       "      <td>1982</td>\n",
       "      <td>2023-05-01 23:11:05.917053</td>\n",
       "    </tr>\n",
       "    <tr>\n",
       "      <th>3</th>\n",
       "      <td>Still got the blues</td>\n",
       "      <td>Gary Moore</td>\n",
       "      <td>UK</td>\n",
       "      <td>Virgin records</td>\n",
       "      <td>5.10</td>\n",
       "      <td>1990</td>\n",
       "      <td>2023-05-01 23:11:05.917053</td>\n",
       "    </tr>\n",
       "    <tr>\n",
       "      <th>4</th>\n",
       "      <td>Eros</td>\n",
       "      <td>Eros Ramazzotti</td>\n",
       "      <td>EU</td>\n",
       "      <td>BMG</td>\n",
       "      <td>4.95</td>\n",
       "      <td>1997</td>\n",
       "      <td>2023-05-01 23:11:05.917053</td>\n",
       "    </tr>\n",
       "  </tbody>\n",
       "</table>\n",
       "</div>"
      ],
      "text/plain": [
       "                 TITLE           ARTIST COUNTRY         COMPANY  PRICE  YEAR   \n",
       "0     Empire Burlesque        Bob Dylan     USA        Columbia   5.45  1985  \\\n",
       "1      Hide your heart     Bonnie Tyler      UK     CBS Records   4.95  1988   \n",
       "2        Greatest Hits     Dolly Parton     USA             RCA   4.95  1982   \n",
       "3  Still got the blues       Gary Moore      UK  Virgin records   5.10  1990   \n",
       "4                 Eros  Eros Ramazzotti      EU             BMG   4.95  1997   \n",
       "\n",
       "                       Today  \n",
       "0 2023-05-01 23:11:05.917053  \n",
       "1 2023-05-01 23:11:05.917053  \n",
       "2 2023-05-01 23:11:05.917053  \n",
       "3 2023-05-01 23:11:05.917053  \n",
       "4 2023-05-01 23:11:05.917053  "
      ]
     },
     "execution_count": 30,
     "metadata": {},
     "output_type": "execute_result"
    }
   ],
   "source": [
    "data['PRICE'] = data['PRICE']/2\n",
    "data.head()"
   ]
  },
  {
   "cell_type": "code",
   "execution_count": 31,
   "id": "9917bbbf-3b1f-42f8-8d2e-fc6008829987",
   "metadata": {
    "tags": []
   },
   "outputs": [],
   "source": [
    "data.to_json('json/CDDoublePrecision.json', indent=2,orient='records',double_precision=2)"
   ]
  },
  {
   "cell_type": "markdown",
   "id": "8b1f8ac3-d5f5-44ca-bf48-3af692816f50",
   "metadata": {},
   "source": [
    "# Force ASCII"
   ]
  },
  {
   "cell_type": "code",
   "execution_count": 32,
   "id": "725f0943-ea24-45a0-9541-e70e9414fe83",
   "metadata": {
    "tags": []
   },
   "outputs": [],
   "source": [
    "data.to_json('json/CDForceASCII.json', indent=2,orient='records',force_ascii=False)"
   ]
  },
  {
   "cell_type": "markdown",
   "id": "a1a0f7d4-2c23-4eb6-8311-24e28be6b93c",
   "metadata": {},
   "source": [
    "# Lines\n",
    "Only works on orient records"
   ]
  },
  {
   "cell_type": "code",
   "execution_count": 33,
   "id": "95897daa-0828-4beb-8a20-c1fc04a349a5",
   "metadata": {
    "tags": []
   },
   "outputs": [],
   "source": [
    "data.to_json('json/CDLines.json', indent=2,orient='records',lines=True)"
   ]
  },
  {
   "cell_type": "markdown",
   "id": "41a2f4bd-3ddd-4b28-a815-abac16488f15",
   "metadata": {},
   "source": [
    "# Compression"
   ]
  },
  {
   "cell_type": "code",
   "execution_count": 34,
   "id": "65b16cdc-3eeb-4313-a40c-827c18c133b2",
   "metadata": {
    "tags": []
   },
   "outputs": [],
   "source": [
    "data.to_json('json/CDGZip.gzip', indent=2,orient='table',compression={'method': 'gzip', 'compresslevel': 1, 'mtime': 1})"
   ]
  },
  {
   "cell_type": "markdown",
   "id": "1024e3d0-6f10-48a4-b669-855717e69633",
   "metadata": {},
   "source": [
    "# Index\n",
    "False is only valid when orient is split or table"
   ]
  },
  {
   "cell_type": "code",
   "execution_count": 35,
   "id": "6194ac0b-720d-4813-b57e-0ede05b79667",
   "metadata": {
    "tags": []
   },
   "outputs": [],
   "source": [
    "data.to_json('json/CDIndex.json', indent=2,orient='table',index=False)"
   ]
  },
  {
   "cell_type": "markdown",
   "id": "f6c0667d-bd5d-4c12-9257-e8d2b6b0b163",
   "metadata": {},
   "source": [
    "# Indent"
   ]
  },
  {
   "cell_type": "code",
   "execution_count": null,
   "id": "d0ff7eee-a7e8-4c94-a47c-182cad1a3d0b",
   "metadata": {},
   "outputs": [],
   "source": [
    "data.to_json('json/CDIndent.json',orient='table',indent=2)"
   ]
  }
 ],
 "metadata": {
  "kernelspec": {
   "display_name": "Python 3 (ipykernel)",
   "language": "python",
   "name": "python3"
  },
  "language_info": {
   "codemirror_mode": {
    "name": "ipython",
    "version": 3
   },
   "file_extension": ".py",
   "mimetype": "text/x-python",
   "name": "python",
   "nbconvert_exporter": "python",
   "pygments_lexer": "ipython3",
   "version": "3.10.6"
  }
 },
 "nbformat": 4,
 "nbformat_minor": 5
}
